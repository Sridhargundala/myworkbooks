{
 "cells": [
  {
   "cell_type": "code",
   "execution_count": 37,
   "metadata": {},
   "outputs": [
    {
     "name": "stdout",
     "output_type": "stream",
     "text": [
      "['nis', 'man', 'sri', 'ven']\n",
      "hello Nis\n",
      "hru NIS \n",
      "\n",
      "hello Man\n",
      "hru MAN \n",
      "\n",
      "hello Sri\n",
      "hru SRI \n",
      "\n",
      "hello Ven\n",
      "hru VEN \n",
      "\n",
      "everuthing is ok am absolutely fine\n"
     ]
    }
   ],
   "source": [
    "name = [\"nis\", \"man\", \"sri\", \"ven\"]\n",
    "print(name)\n",
    "# message = \"hello \"+ name[1].title() + \" hwr!\"\n",
    "# print(message)\n",
    "# message = \"hello \"+ name[2].title() + \" hwr!\"\n",
    "# print(message)\n",
    "# name[2] = \"prj\"\n",
    "# print(name)\n",
    "# name.append(\"ujr\")\n",
    "# print(name)\n",
    "# popped_name = name.pop(2)\n",
    "# print(name)\n",
    "# print(popped_name)\n",
    "# name.copy()\n",
    "# print(name)\n",
    "# name.insert(0,\"xxx\")\n",
    "# print(name)\n",
    "# print(len(name))\n",
    "# name.sort()\n",
    "# print(name)\n",
    "# name.sort(reverse = True)\n",
    "# print(name)\n",
    "# print(sorted(name))\n",
    "# del(name[1])\n",
    "# print(name)\n",
    "# name.remove(\"ven\")\n",
    "# print(name)\n",
    "for i in name:\n",
    "    print(\"hello\", i.title())\n",
    "    print(\"hru\", i.upper(),\"\\n\")\n",
    "print(\"everuthing is ok am absolutely fine\")    "
   ]
  },
  {
   "cell_type": "code",
   "execution_count": 21,
   "metadata": {},
   "outputs": [],
   "source": [
    "filename = \"08sep.txt\"\n",
    "with open(filename, 'w') as file_object:\n",
    "    file_object.write(\"I love programming.\")\n",
    "    file_object.write(\"\\nI love python.\")"
   ]
  },
  {
   "cell_type": "code",
   "execution_count": 23,
   "metadata": {},
   "outputs": [
    {
     "name": "stdout",
     "output_type": "stream",
     "text": [
      "0\n",
      "2\n",
      "4\n",
      "6\n",
      "8\n",
      "10\n",
      "12\n",
      "14\n",
      "16\n",
      "18\n",
      "20\n",
      "[5, 10, 15, 20, 25, 30, 35, 40, 45, 50]\n",
      "5\n",
      "10\n",
      "15\n",
      "20\n",
      "25\n",
      "30\n",
      "35\n",
      "40\n",
      "45\n"
     ]
    }
   ],
   "source": [
    "for n in list(range(0,21,2)):\n",
    "    print(n)\n",
    "# multiple = []\n",
    "# for i in  list(range(1,11)):\n",
    "#     multiple.append(i*3)\n",
    "# print(multiple)\n",
    "# name = []\n",
    "# for n in list((\"nis\", \"man\", \"sri\", \"ven\")):\n",
    "#     name.append(n)\n",
    "#     print(\"my name is:\",n)\n",
    "# print(name)\n",
    "multipliers_5 = list(value*5 for value in range(1,11))\n",
    "print(multipliers_5)\n",
    "for i in range(1,10):\n",
    "    print(i*5)"
   ]
  },
  {
   "cell_type": "code",
   "execution_count": 83,
   "metadata": {},
   "outputs": [
    {
     "name": "stdout",
     "output_type": "stream",
     "text": [
      "name is: man and age is: 32\n",
      "name is: nis and age is: 31\n",
      "name is: sri and age is: 30\n",
      "\n",
      "old dict\n",
      "{'man': 32, 'nis': 31, 'sri': 30}\n",
      "man age is:  32\n",
      "\n",
      "new dict\n",
      "man new age is:  35\n",
      "{'man': 35, 'nis': 31, 'sri': 30}\n"
     ]
    }
   ],
   "source": [
    "# info = {\"fnam\":\"man\",  \"lnam\":\"reddy\", \"age\":32, \"city\":\"hyd\"}\n",
    "# print(info[\"fnam\"])\n",
    "# print(info[\"lnam\"])\n",
    "# print(info[\"age\"])\n",
    "# print(info[\"city\"])\n",
    "name = {\"man\":32, \"nis\":31, \"sri\":30}\n",
    "for nam,age in name.items():\n",
    "    print(\"name is:\",nam,\"and age is:\",age)\n",
    "print(\"\\nold dict\")\n",
    "print(name)\n",
    "print(\"man age is: \",name[\"man\"])\n",
    "name[\"man\"]=35\n",
    "print(\"\\nnew dict\")\n",
    "print(\"man new age is: \",name[\"man\"])\n",
    "print(name)\n",
    "# print(name.keys())\n",
    "# print(name.values())\n",
    "# print(name.items())\n",
    "# print(name.get(\"sri\"))\n",
    "# for i in name:\n",
    "#     print(\"hello\",i)"
   ]
  },
  {
   "cell_type": "code",
   "execution_count": 27,
   "metadata": {},
   "outputs": [
    {
     "name": "stdout",
     "output_type": "stream",
     "text": [
      "hello\n",
      "java\n",
      "ruby\n",
      "['hello']\n"
     ]
    }
   ],
   "source": [
    "a = \"hello\" ; b = \"java\" ; c = \"ruby\"\n",
    "print(a)\n",
    "print(b)\n",
    "print(c)\n",
    "print(a.split())"
   ]
  },
  {
   "cell_type": "code",
   "execution_count": 91,
   "metadata": {},
   "outputs": [
    {
     "name": "stdout",
     "output_type": "stream",
     "text": [
      "how many members are there in that table: 5\n",
      "the table is empty\n"
     ]
    }
   ],
   "source": [
    "user = int(input(\"how many members are there in that table: \"))\n",
    "if user >= 8:\n",
    "    print(\"the talbe is reserved\")\n",
    "elif user >= 6:\n",
    "    print(\"table neither reserved nor empty\")\n",
    "else:\n",
    "    print('the table is empty')"
   ]
  },
  {
   "cell_type": "code",
   "execution_count": 98,
   "metadata": {},
   "outputs": [
    {
     "name": "stdout",
     "output_type": "stream",
     "text": [
      "enter a number: 91\n",
      "no. is multiplied by 10\n"
     ]
    }
   ],
   "source": [
    "user1 = input(\"enter a number: \")\n",
    "user2 = int(user1)\n",
    "if user2 % 10 == 1:\n",
    "    print(\"no. is multiplied by 10\")\n",
    "else:\n",
    "    print(\"no. is not multiplied by 10\")"
   ]
  },
  {
   "cell_type": "code",
   "execution_count": 107,
   "metadata": {},
   "outputs": [
    {
     "name": "stdout",
     "output_type": "stream",
     "text": [
      "2\n",
      "el\n",
      "11\n",
      "3\n",
      "3\n"
     ]
    }
   ],
   "source": [
    "a = \"hello world\"\n",
    "print(a.index(\"l\"))\n",
    "print(a[1:3])\n",
    "print(len(a))\n",
    "print(a.count(\"l\"))\n",
    "print(len(a) // a.count(\"l\"))"
   ]
  },
  {
   "cell_type": "code",
   "execution_count": 5,
   "metadata": {},
   "outputs": [
    {
     "name": "stdout",
     "output_type": "stream",
     "text": [
      "survey on my pets\n",
      "enter your pet name:rat\n",
      "i have rat\n"
     ]
    }
   ],
   "source": [
    "print(\"survey on my pets\")\n",
    "x = input(\"enter your pet name:\")\n",
    "if x == \"dog\":\n",
    "    print(\"i have a dog\")\n",
    "elif x == \"cat\":\n",
    "    print(\"i have a cat\")\n",
    "elif x == \"rat\":\n",
    "    print(\"i have rat\")\n",
    "else:\n",
    "    print(\"i have no pets\")"
   ]
  },
  {
   "cell_type": "code",
   "execution_count": 30,
   "metadata": {},
   "outputs": [
    {
     "name": "stdout",
     "output_type": "stream",
     "text": [
      "Hello Python!\n",
      "Hello python!\n",
      "HELLO PYTHON! hello python!\n",
      "hezzo python!\n",
      "('he', 'l', 'lo python!')\n",
      "['hello', 'python!']\n",
      "b'hello python!'\n",
      "False\n"
     ]
    }
   ],
   "source": [
    "a = \"hello python!\" \n",
    "b = \"hello python!\"\n",
    "print(a.title())\n",
    "print(a.capitalize())\n",
    "print(a.upper() + \" \" + b.lower())\n",
    "print(a.replace(\"l\",\"z\"))\n",
    "print(a.partition(\"l\"))\n",
    "print(a.split())\n",
    "print(b.encode())\n",
    "print(b.endswith(\"l\"))"
   ]
  },
  {
   "cell_type": "code",
   "execution_count": 18,
   "metadata": {},
   "outputs": [
    {
     "data": {
      "text/plain": [
       "'1hello python hw r u!2hello python hw r u!3'"
      ]
     },
     "execution_count": 18,
     "metadata": {},
     "output_type": "execute_result"
    }
   ],
   "source": [
    "num = \"hello python hw r u!\"\n",
    "n1 = \"123\"\n",
    "num.join(n1)"
   ]
  },
  {
   "cell_type": "code",
   "execution_count": 32,
   "metadata": {},
   "outputs": [
    {
     "name": "stdout",
     "output_type": "stream",
     "text": [
      "2059290073584\n",
      "2059290197168\n"
     ]
    }
   ],
   "source": [
    "b = \"hello python!\" \n",
    "a = \"hello python!\" \n",
    "print(id(a))\n",
    "print(id(b))"
   ]
  },
  {
   "cell_type": "code",
   "execution_count": 69,
   "metadata": {},
   "outputs": [
    {
     "name": "stdout",
     "output_type": "stream",
     "text": [
      "13\n",
      "7\n",
      "2\n",
      "False\n",
      "h!e!"
     ]
    }
   ],
   "source": [
    "a = \"hello python!\" \n",
    "print(len(a))\n",
    "print(a.index(\"y\"))\n",
    "print(a.count(\"o\"))\n",
    "print(a.isalpha())\n",
    "for i in a:\n",
    "    if i == \"l\":\n",
    "        break\n",
    "    print(i,end=\"!\")"
   ]
  },
  {
   "cell_type": "code",
   "execution_count": 68,
   "metadata": {},
   "outputs": [
    {
     "name": "stdout",
     "output_type": "stream",
     "text": [
      "h!e!l!"
     ]
    }
   ],
   "source": [
    "for i in a:\n",
    "    print(i,end=\"!\")\n",
    "    if i == \"l\":\n",
    "        break    "
   ]
  },
  {
   "cell_type": "code",
   "execution_count": 78,
   "metadata": {},
   "outputs": [
    {
     "name": "stdout",
     "output_type": "stream",
     "text": [
      "NIS$belongs to$Service Hub\n",
      "MAN$belongs to$Service Hub\n",
      "VEN$belongs to$Service Hub\n"
     ]
    }
   ],
   "source": [
    "cl = [\"service hub\"]\n",
    "na = [\"nis\",\"man\",\"ven\"]\n",
    "for a in cl:\n",
    "    for b in na:\n",
    "#        if b == \"man\":\n",
    "#             break\n",
    "        print(b.upper(),\"belongs to\",a.title(),sep=\"$\")\n",
    "#         if b == \"man\":\n",
    "#             break"
   ]
  },
  {
   "cell_type": "code",
   "execution_count": 80,
   "metadata": {},
   "outputs": [
    {
     "name": "stdout",
     "output_type": "stream",
     "text": [
      "hello Man\n",
      "hello Sri\n",
      "hello Ven\n",
      "hello Nis\n"
     ]
    }
   ],
   "source": [
    "def user(name):\n",
    "    print(\"hello\",name.title())\n",
    "user(\"man\")\n",
    "user(\"sri\")\n",
    "user(\"ven\")\n",
    "user(\"nis\")"
   ]
  },
  {
   "cell_type": "code",
   "execution_count": 2,
   "metadata": {},
   "outputs": [
    {
     "name": "stdout",
     "output_type": "stream",
     "text": [
      "hi MAN ur age 22\n",
      "hi MAN ur age 25\n",
      "hi MAN ur age 26\n",
      "hi MAN ur age 28\n",
      "hi NIS ur age 22\n",
      "hi NIS ur age 25\n",
      "hi NIS ur age 26\n",
      "hi NIS ur age 28\n",
      "hi SRI ur age 22\n",
      "hi SRI ur age 25\n",
      "hi SRI ur age 26\n",
      "hi SRI ur age 28\n",
      "hi VEN ur age 22\n",
      "hi VEN ur age 25\n",
      "hi VEN ur age 26\n",
      "hi VEN ur age 28\n"
     ]
    }
   ],
   "source": [
    "def user(name,age):\n",
    "    for i in name:\n",
    "        for a in age:\n",
    "            print(\"hi\",i.upper(),\"ur age\",a)\n",
    "    \n",
    "name = [\"man\",\"nis\",\"sri\",\"ven\"]\n",
    "age = [22,25,26,28]\n",
    "user(name,age)\n",
    "# user(\"sri\",27)\n",
    "# user(\"ven\",22)\n",
    "# user(\"nis\")"
   ]
  },
  {
   "cell_type": "code",
   "execution_count": 133,
   "metadata": {},
   "outputs": [
    {
     "name": "stdout",
     "output_type": "stream",
     "text": [
      "90\n"
     ]
    }
   ],
   "source": [
    "n = 2\n",
    "x = lambda n : a*n\n",
    "print(x(30))"
   ]
  },
  {
   "cell_type": "code",
   "execution_count": 121,
   "metadata": {},
   "outputs": [
    {
     "name": "stdout",
     "output_type": "stream",
     "text": [
      "1\n"
     ]
    }
   ],
   "source": [
    "x = lambda a, b : a%b\n",
    "print(x(10,3))"
   ]
  },
  {
   "cell_type": "code",
   "execution_count": 144,
   "metadata": {},
   "outputs": [
    {
     "name": "stdout",
     "output_type": "stream",
     "text": [
      "area of circle is: 12.566370614359172\n",
      "area of circle is: 0.0\n"
     ]
    }
   ],
   "source": [
    "from math import *\n",
    "def area(r):\n",
    "    A = pi*r**2\n",
    "    print(\"area of circle is:\",A)\n",
    "area(2)\n",
    "area(0)"
   ]
  },
  {
   "cell_type": "code",
   "execution_count": 166,
   "metadata": {},
   "outputs": [
    {
     "name": "stdout",
     "output_type": "stream",
     "text": [
      "am learing java&python\n",
      "am learing c&ruby\n",
      "am learing ruby&c\n",
      "am learing java&python from past 3 years\n",
      "am learing java&python from past 3 years\n"
     ]
    }
   ],
   "source": [
    "a = \"java\" ; b = \"python\" ;c = 3\n",
    "print(\"am learing {}&{}\".format(a,b))\n",
    "print(\"am learing {a}&{b}\".format(a=\"c\",b=\"ruby\"))\n",
    "print(\"am learing {b}&{a}\".format(a=\"c\",b=\"ruby\"))\n",
    "print(\"am learing %s&%s from past %i years\" %(a,b,c))\n",
    "print(r\"am learing %s&%s from past %i years\" %(a,b,c))"
   ]
  },
  {
   "cell_type": "code",
   "execution_count": 169,
   "metadata": {},
   "outputs": [
    {
     "name": "stdout",
     "output_type": "stream",
     "text": [
      "hello\tpython\n",
      "hello\n",
      "\tpython\n",
      "hello\\tpython\n"
     ]
    }
   ],
   "source": [
    "print(\"hello\\tpython\")\n",
    "print(\"hello\\n\\tpython\")\n",
    "print(r\"hello\\tpython\")"
   ]
  },
  {
   "cell_type": "code",
   "execution_count": null,
   "metadata": {},
   "outputs": [],
   "source": [
    "i = 2\n",
    "while i = 5:\n",
    "    print(i)\n",
    "    i += 1"
   ]
  },
  {
   "cell_type": "code",
   "execution_count": 48,
   "metadata": {},
   "outputs": [
    {
     "name": "stdout",
     "output_type": "stream",
     "text": [
      "ello pyt\n",
      "hello python\n",
      " hello\n",
      "hello   \n",
      "hello\n",
      " hello   \n"
     ]
    }
   ],
   "source": [
    "a = '  hello python'\n",
    "b = ' hello   '\n",
    "print(a.strip(\"   hon\"))\n",
    "print(a.strip())\n",
    "print(b.rstrip())\n",
    "print(b.lstrip())\n",
    "print(b.strip())\n",
    "print(b.strip(\"h\"))"
   ]
  },
  {
   "cell_type": "code",
   "execution_count": 4,
   "metadata": {},
   "outputs": [
    {
     "name": "stdout",
     "output_type": "stream",
     "text": [
      "['ven', 'nis', 'man', 'sri']\n",
      "('hello', 'Nis', 'hwr!')\n"
     ]
    }
   ],
   "source": [
    "name = [\"ven\", \"nis\", \"man\", \"sri\"]\n",
    "print(name)\n",
    "message = \"hello\", name[1].title() ,\"hwr!\"\n",
    "print(message)"
   ]
  },
  {
   "cell_type": "code",
   "execution_count": 6,
   "metadata": {},
   "outputs": [
    {
     "name": "stdout",
     "output_type": "stream",
     "text": [
      "['ven', 'nis', 'man', 'sri']\n",
      "['hello', 'Nis', 'hwr!']\n",
      "hello VEN hwr!\n"
     ]
    }
   ],
   "source": [
    "name = [\"ven\", \"nis\", \"man\", \"sri\"]\n",
    "print(name)\n",
    "message = [\"hello\", name[1].title() ,\"hwr!\"]\n",
    "print(message)\n",
    "print(\"hello\", name[0].upper() ,\"hwr!\")"
   ]
  },
  {
   "cell_type": "code",
   "execution_count": 22,
   "metadata": {},
   "outputs": [
    {
     "name": "stdout",
     "output_type": "stream",
     "text": [
      "1231\n",
      "1\n",
      "1123\n",
      "123\n",
      "123start\n",
      "start\n"
     ]
    }
   ],
   "source": [
    "a = \"\\n lets start the car: \"\n",
    "a += \"\\n please stop the car by entering 'stop': \"\n",
    "m = \"123\"\n",
    "while m != \"start\":\n",
    "    m = input(m)\n",
    "    print(m)"
   ]
  },
  {
   "cell_type": "code",
   "execution_count": 38,
   "metadata": {},
   "outputs": [
    {
     "name": "stdout",
     "output_type": "stream",
     "text": [
      "everyones details:\n",
      "\n",
      "hello sri\n",
      "sri age is: 21\n",
      "all are working on sw\n",
      "\n",
      "hello ven\n",
      "ven age is: 32\n",
      "all are working on sw\n",
      "\n",
      "hello raj\n",
      "raj age is: 26\n",
      "all are working on sw\n",
      "\n",
      "hello man\n",
      "man age is: 21\n",
      "all are working on sw\n",
      "\n",
      "hello nis\n",
      "nis age is: 23\n",
      "all are working on sw\n",
      "\n",
      "so we have everyones's name & age\n"
     ]
    }
   ],
   "source": [
    "print(\"everyones details:\\n\")\n",
    "def greet(name1=\"sri\",age=21):\n",
    "    print(\"hello\",name1)\n",
    "    print(name1,\"age is:\",age,)\n",
    "    print(\"all are working on sw\\n\")\n",
    "greet()\n",
    "greet(\"ven\",32)\n",
    "greet(\"raj\",26)\n",
    "greet(\"man\")\n",
    "greet(\"nis\",23)\n",
    "print(\"so we have everyones's name & age\")"
   ]
  },
  {
   "cell_type": "code",
   "execution_count": 103,
   "metadata": {},
   "outputs": [
    {
     "name": "stdout",
     "output_type": "stream",
     "text": [
      "man age is: 20\n",
      "age is sufficient\n",
      "man age is: 21\n",
      "man age is: 22\n",
      "age is sufficient\n",
      "nis age is: 20\n",
      "age is sufficient\n",
      "nis age is: 21\n",
      "nis age is: 22\n",
      "age is sufficient\n",
      "ven age is: 20\n",
      "age is sufficient\n",
      "ven age is: 21\n",
      "ven age is: 22\n",
      "age is sufficient\n"
     ]
    }
   ],
   "source": [
    "def greet(names,ages):\n",
    "    for name in names:\n",
    "        for age in ages:\n",
    "            print(name,\"age is:\",age)\n",
    "            if age != 21:\n",
    "                print(\"age is sufficient\")\n",
    "n = [\"man\",\"nis\",\"ven\"] \n",
    "a = [20,21,22]\n",
    "greet(n,a)"
   ]
  },
  {
   "cell_type": "code",
   "execution_count": 77,
   "metadata": {},
   "outputs": [
    {
     "name": "stdout",
     "output_type": "stream",
     "text": [
      "nis present age is: 30 and he knows java\n",
      "nis present age is: 30 and he knows python\n",
      "nis present age is: 30 and he knows julia\n",
      "nis present age is: 29 and he knows java\n",
      "nis present age is: 29 and he knows python\n",
      "nis present age is: 29 and he knows julia\n",
      "nis present age is: 33 and he knows java\n",
      "nis present age is: 33 and he knows python\n",
      "nis present age is: 33 and he knows julia\n",
      "man present age is: 30 and he knows java\n",
      "man present age is: 30 and he knows python\n",
      "man present age is: 30 and he knows julia\n",
      "man present age is: 29 and he knows java\n",
      "man present age is: 29 and he knows python\n",
      "man present age is: 29 and he knows julia\n",
      "man present age is: 33 and he knows java\n",
      "man present age is: 33 and he knows python\n",
      "man present age is: 33 and he knows julia\n",
      "sri present age is: 30 and he knows java\n",
      "sri present age is: 30 and he knows python\n",
      "sri present age is: 30 and he knows julia\n",
      "sri present age is: 29 and he knows java\n",
      "sri present age is: 29 and he knows python\n",
      "sri present age is: 29 and he knows julia\n",
      "sri present age is: 33 and he knows java\n",
      "sri present age is: 33 and he knows python\n",
      "sri present age is: 33 and he knows julia\n"
     ]
    }
   ],
   "source": [
    "names = [\"nis\",\"man\",\"sri\"]\n",
    "ages = [30,29,33]\n",
    "languages = [\"java\",\"python\",\"julia\"]\n",
    "for name in names:\n",
    "    for age in ages:\n",
    "        for language in languages:\n",
    "            print(name,\"present age is:\",age,\"and he knows\",language)"
   ]
  },
  {
   "cell_type": "code",
   "execution_count": 89,
   "metadata": {},
   "outputs": [
    {
     "name": "stdout",
     "output_type": "stream",
     "text": [
      "name is nis and age is\n",
      "\t 33 \n",
      "\n",
      "name is ven and age is\n",
      "\t 25 \n",
      "\n",
      "name is man and age is\n",
      "\t 33 \n",
      "\n"
     ]
    }
   ],
   "source": [
    "dicts = {\"nis\":33,\"ven\":25,\"man\":33}\n",
    "for k,v in dicts.items():\n",
    "    print(\"name is\",k,\"and age is\\n\\t\",v,\"\\n\")"
   ]
  },
  {
   "cell_type": "code",
   "execution_count": 100,
   "metadata": {},
   "outputs": [
    {
     "name": "stdout",
     "output_type": "stream",
     "text": [
      "man having pulsar\n",
      "man fav bike is: pulsar\n",
      "sri having passion\n",
      "sri fav bike is: passion\n",
      "nis having activa\n",
      "nar having ktm\n",
      "nar fav bike is: ktm\n"
     ]
    }
   ],
   "source": [
    "x = {\n",
    "    \"man\":\"pulsar\", \n",
    "    \"sri\":\"passion\", \n",
    "    \"nis\":\"activa\",\n",
    "    \"nar\":\"ktm\"\n",
    "    }\n",
    "names = [\"ven\",\"nis\",\"man\"]\n",
    "for name,veh in x.items():\n",
    "    print(name,\"having\",veh)\n",
    "    \n",
    "    if name != \"nis\":\n",
    "        print(name,\"fav bike is:\",veh)"
   ]
  },
  {
   "cell_type": "code",
   "execution_count": 109,
   "metadata": {},
   "outputs": [
    {
     "name": "stdout",
     "output_type": "stream",
     "text": [
      "5.0\n"
     ]
    }
   ],
   "source": [
    "a = 1 ; b = 4.0\n",
    "print(int(a)+b)"
   ]
  },
  {
   "cell_type": "code",
   "execution_count": 113,
   "metadata": {},
   "outputs": [
    {
     "name": "stdout",
     "output_type": "stream",
     "text": [
      "[['re', 'ktm', 'suzuki']]\n"
     ]
    }
   ],
   "source": [
    "byke = []\n",
    "# byke.append(\"yamaha\")\n",
    "# byke.append(\"pulsar\")\n",
    "# byke.append(\"tvs\")\n",
    "# print(byke)\n",
    "bykes = [\"re\",\"ktm\",\"suzuki\"]\n",
    "byke.append(bykes)\n",
    "# bykes.append(byke)\n",
    "print(byke)\n",
    "# print(bykes)"
   ]
  },
  {
   "cell_type": "code",
   "execution_count": null,
   "metadata": {},
   "outputs": [],
   "source": [
    "print(\"hello {} am learning {}\".format(\"nis\",\"java\"))"
   ]
  },
  {
   "cell_type": "code",
   "execution_count": 125,
   "metadata": {},
   "outputs": [
    {
     "name": "stdout",
     "output_type": "stream",
     "text": [
      "[1, 3, 5, 7, 9, 11, 13, 15, 17, 19, 21, 23, 25, 27, 29, 31, 33, 35, 37, 39, 41, 43, 45, 47, 49, 51, 53, 55, 57, 59, 61, 63, 65, 67, 69, 71, 73, 75, 77, 79, 81, 83, 85, 87, 89, 91, 93, 95, 97, 99]\n",
      "99\n",
      "1\n"
     ]
    },
    {
     "data": {
      "text/plain": [
       "2500"
      ]
     },
     "execution_count": 125,
     "metadata": {},
     "output_type": "execute_result"
    }
   ],
   "source": [
    "x = list(range(1,101,2))\n",
    "print(x)\n",
    "print(max(x))\n",
    "print(min(x)) \n",
    "sum(x)"
   ]
  },
  {
   "cell_type": "code",
   "execution_count": 144,
   "metadata": {},
   "outputs": [
    {
     "name": "stdout",
     "output_type": "stream",
     "text": [
      "hello mobile world!\n",
      "\n",
      "NOKIA\n",
      "am presently using nokia\n",
      "APPLE\n",
      "am presently using apple\n",
      "SAMSUNG\n",
      "am presently using samsung\n",
      "XIOMI\n",
      "am presently using xiomi\n"
     ]
    }
   ],
   "source": [
    "mobiles = [\"nokia\",\"apple\",\"samsung\",\"xiomi\"]\n",
    "print(\"hello mobile world!\\n\")\n",
    "for mobile in mobiles:\n",
    "    if \"re\" not in mobiles:\n",
    "        print(mobile.upper())\n",
    "    else:\n",
    "        print(mobile.title())\n",
    "    print(\"am presently using\",mobile)"
   ]
  },
  {
   "cell_type": "code",
   "execution_count": null,
   "metadata": {},
   "outputs": [],
   "source": []
  },
  {
   "cell_type": "code",
   "execution_count": null,
   "metadata": {},
   "outputs": [],
   "source": []
  }
 ],
 "metadata": {
  "kernelspec": {
   "display_name": "Python 3",
   "language": "python",
   "name": "python3"
  },
  "language_info": {
   "codemirror_mode": {
    "name": "ipython",
    "version": 3
   },
   "file_extension": ".py",
   "mimetype": "text/x-python",
   "name": "python",
   "nbconvert_exporter": "python",
   "pygments_lexer": "ipython3",
   "version": "3.6.5"
  }
 },
 "nbformat": 4,
 "nbformat_minor": 2
}
